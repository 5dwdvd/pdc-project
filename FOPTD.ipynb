{
 "cells": [
  {
   "cell_type": "code",
   "execution_count": 13,
   "metadata": {},
   "outputs": [],
   "source": [
    "import pandas as pd"
   ]
  },
  {
   "cell_type": "code",
   "execution_count": 14,
   "metadata": {},
   "outputs": [],
   "source": [
    "coolingflow_biotemp = pd.read_excel(\"20230207_coolingflow_biotemp.xlsx\")\n",
    "coolingflow_ethanolconc = pd.read_excel(\"20230207_coolingflow_ethanolconc.xlsx\")\n",
    "feedglucose_biotemp = pd.read_excel(\"20230207_feedglucoseconc_biotemp.xlsx\")\n",
    "feedglucoseconc_ethanolconc = pd.read_excel(\"20230207_feedglucoseconc_ethanolconc.xlsx\")"
   ]
  },
  {
   "attachments": {},
   "cell_type": "markdown",
   "metadata": {},
   "source": [
    "$$x\\pm\\sigma$$"
   ]
  },
  {
   "cell_type": "code",
   "execution_count": 23,
   "metadata": {},
   "outputs": [
    {
     "data": {
      "text/plain": [
       "Step     0.000e+00 ± 1.423e+01\n",
       "Kp      -1.467e-03 ± 3.901e-05\n",
       "Tau      6.396e+00 ± 1.104e-03\n",
       "Td       1.853e-03 ± 5.703e-05\n",
       "dtype: object"
      ]
     },
     "execution_count": 23,
     "metadata": {},
     "output_type": "execute_result"
    }
   ],
   "source": [
    "coolingflow_biotemp.apply(lambda x: \"{:.3e} ± {:.3e}\".format(x.mean(), x.sem()))"
   ]
  },
  {
   "cell_type": "code",
   "execution_count": 24,
   "metadata": {},
   "outputs": [
    {
     "data": {
      "text/plain": [
       "Step    0.000e+00 ± 1.423e+01\n",
       "Kp      7.968e-04 ± 2.649e-05\n",
       "Tau     1.776e+01 ± 2.838e-02\n",
       "Td      8.098e+00 ± 9.755e-03\n",
       "dtype: object"
      ]
     },
     "execution_count": 24,
     "metadata": {},
     "output_type": "execute_result"
    }
   ],
   "source": [
    "coolingflow_ethanolconc.apply(lambda x: \"{:.3e} ± {:.3e}\".format(x.mean(), x.sem()))"
   ]
  },
  {
   "cell_type": "code",
   "execution_count": 25,
   "metadata": {},
   "outputs": [
    {
     "data": {
      "text/plain": [
       "Step    0.000e+00 ± 1.423e+01\n",
       "Kp      4.175e-05 ± 1.547e-06\n",
       "Tau     1.843e+01 ± 3.244e-01\n",
       "Td      5.852e+00 ± 5.798e-02\n",
       "dtype: object"
      ]
     },
     "execution_count": 25,
     "metadata": {},
     "output_type": "execute_result"
    }
   ],
   "source": [
    "feedglucose_biotemp.apply(lambda x: \"{:.3e} ± {:.3e}\".format(x.mean(), x.sem()))"
   ]
  },
  {
   "cell_type": "code",
   "execution_count": 30,
   "metadata": {},
   "outputs": [
    {
     "data": {
      "text/plain": [
       "Step    0.000e+00 ± 1.423e+01\n",
       "Kp      2.811e-04 ± 1.039e-05\n",
       "Tau     2.683e+01 ± 4.872e-01\n",
       "Td      3.144e+00 ± 5.694e-02\n",
       "dtype: object"
      ]
     },
     "execution_count": 30,
     "metadata": {},
     "output_type": "execute_result"
    }
   ],
   "source": [
    "feedglucoseconc_ethanolconc.apply(lambda x: \"{:.3e} ± {:.3e}\".format(x.mean(), x.sem()))"
   ]
  }
 ],
 "metadata": {
  "kernelspec": {
   "display_name": "apm-chroma",
   "language": "python",
   "name": "python3"
  },
  "language_info": {
   "codemirror_mode": {
    "name": "ipython",
    "version": 3
   },
   "file_extension": ".py",
   "mimetype": "text/x-python",
   "name": "python",
   "nbconvert_exporter": "python",
   "pygments_lexer": "ipython3",
   "version": "3.9.13"
  },
  "orig_nbformat": 4,
  "vscode": {
   "interpreter": {
    "hash": "ffad1763cf0b73dbb77f643d464579b101334bb4b8e433a92408912a505446d8"
   }
  }
 },
 "nbformat": 4,
 "nbformat_minor": 2
}
